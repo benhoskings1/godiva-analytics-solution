{
 "cells": [
  {
   "cell_type": "code",
   "id": "initial_id",
   "metadata": {
    "collapsed": true,
    "ExecuteTime": {
     "end_time": "2024-06-12T09:44:59.874935Z",
     "start_time": "2024-06-12T09:44:59.872387Z"
    }
   },
   "source": [
    "import pandas as pd\n",
    "import requests\n",
    "\n",
    "from register_new_users import MemberManager"
   ],
   "outputs": [],
   "execution_count": 210
  },
  {
   "metadata": {
    "ExecuteTime": {
     "end_time": "2024-06-12T09:44:59.880950Z",
     "start_time": "2024-06-12T09:44:59.876052Z"
    }
   },
   "cell_type": "code",
   "source": [
    "access_data_path = \"access_tokens.tsv\"\n",
    "\n",
    "access_data = pd.read_csv(access_data_path, sep=\"\\t\")\n",
    "access_data.set_index(\"ID\", inplace=True)\n",
    "access_data.head(3)\n",
    "\n",
    "manager = MemberManager()"
   ],
   "id": "94ee9604660ed255",
   "outputs": [],
   "execution_count": 211
  },
  {
   "metadata": {
    "ExecuteTime": {
     "end_time": "2024-06-12T09:45:00.770301Z",
     "start_time": "2024-06-12T09:44:59.881661Z"
    }
   },
   "cell_type": "code",
   "source": [
    "responses = manager.get_responses()\n",
    "responses[\"First_name\"] = responses[\"First Name\"]\n",
    "responses[\"Last_name\"] = responses[\"Last Name\"]\n",
    "responses = responses.drop([\"First Name\", \"Last Name\"], axis=1)\n",
    "responses.head(3)"
   ],
   "id": "d7f06f4b32bcca49",
   "outputs": [
    {
     "data": {
      "text/plain": [
       "                                                                                                  URL  \\\n",
       "ACYDBNhd0eMPbHlqgTFJCDtm3mJqItmRS5t7fBe8xJ4DZMO...  http://localhost/exchange_token?state=&code=7f...   \n",
       "ACYDBNhG4cmj4aWP1gjh4EnI8klWwhz724kuV2YquXwcXgX...  http://localhost/exchange_token?state=&code=9b...   \n",
       "ACYDBNiaMpqjmIxPsxa6uCLPhnk5q9GjltX3kHGzrF1TjTe...  http://localhost/exchange_token?state=&code=b0...   \n",
       "\n",
       "                                                   First_name Last_name  \n",
       "ACYDBNhd0eMPbHlqgTFJCDtm3mJqItmRS5t7fBe8xJ4DZMO...      Alfie  Hoskings  \n",
       "ACYDBNhG4cmj4aWP1gjh4EnI8klWwhz724kuV2YquXwcXgX...     Dobbie   The elf  \n",
       "ACYDBNiaMpqjmIxPsxa6uCLPhnk5q9GjltX3kHGzrF1TjTe...        Ben  Hoskings  "
      ],
      "text/html": [
       "<div>\n",
       "<style scoped>\n",
       "    .dataframe tbody tr th:only-of-type {\n",
       "        vertical-align: middle;\n",
       "    }\n",
       "\n",
       "    .dataframe tbody tr th {\n",
       "        vertical-align: top;\n",
       "    }\n",
       "\n",
       "    .dataframe thead th {\n",
       "        text-align: right;\n",
       "    }\n",
       "</style>\n",
       "<table border=\"1\" class=\"dataframe\">\n",
       "  <thead>\n",
       "    <tr style=\"text-align: right;\">\n",
       "      <th></th>\n",
       "      <th>URL</th>\n",
       "      <th>First_name</th>\n",
       "      <th>Last_name</th>\n",
       "    </tr>\n",
       "  </thead>\n",
       "  <tbody>\n",
       "    <tr>\n",
       "      <th>ACYDBNhd0eMPbHlqgTFJCDtm3mJqItmRS5t7fBe8xJ4DZMOyDic8F6q4Vr2pKd92ekKbwFs</th>\n",
       "      <td>http://localhost/exchange_token?state=&amp;code=7f...</td>\n",
       "      <td>Alfie</td>\n",
       "      <td>Hoskings</td>\n",
       "    </tr>\n",
       "    <tr>\n",
       "      <th>ACYDBNhG4cmj4aWP1gjh4EnI8klWwhz724kuV2YquXwcXgXtQ84_8rh_dbZfQKy_6NKIQBA</th>\n",
       "      <td>http://localhost/exchange_token?state=&amp;code=9b...</td>\n",
       "      <td>Dobbie</td>\n",
       "      <td>The elf</td>\n",
       "    </tr>\n",
       "    <tr>\n",
       "      <th>ACYDBNiaMpqjmIxPsxa6uCLPhnk5q9GjltX3kHGzrF1TjTekRBInTHFQTG7e4kczT7OT6JY</th>\n",
       "      <td>http://localhost/exchange_token?state=&amp;code=b0...</td>\n",
       "      <td>Ben</td>\n",
       "      <td>Hoskings</td>\n",
       "    </tr>\n",
       "  </tbody>\n",
       "</table>\n",
       "</div>"
      ]
     },
     "execution_count": 212,
     "metadata": {},
     "output_type": "execute_result"
    }
   ],
   "execution_count": 212
  },
  {
   "metadata": {
    "ExecuteTime": {
     "end_time": "2024-06-12T09:45:00.774714Z",
     "start_time": "2024-06-12T09:45:00.771991Z"
    }
   },
   "cell_type": "code",
   "source": [
    "def get_access_tokens(code):\n",
    "    response = requests.post(\n",
    "        url='https://www.strava.com/oauth/token',\n",
    "        data={\n",
    "            'client_id': 111130,\n",
    "            'client_secret': 'b7fca9288af24aaa2f86f1b82f70f2baa54daeb2',\n",
    "            'code': code,\n",
    "            'grant_type': 'authorization_code'\n",
    "        }\n",
    "    )\n",
    "\n",
    "    tokens = response.json()\n",
    "\n",
    "    try:\n",
    "        athlete_tokens = {\n",
    "            \"ID\": tokens[\"athlete\"][\"id\"],\n",
    "            \"Access_token\": tokens[\"access_token\"],\n",
    "            \"Refresh_token\": tokens[\"refresh_token\"]\n",
    "        }\n",
    "\n",
    "    except:\n",
    "        athlete_tokens = tokens\n",
    "\n",
    "    return athlete_tokens"
   ],
   "id": "349f20d73dbb83aa",
   "outputs": [],
   "execution_count": 213
  },
  {
   "metadata": {
    "ExecuteTime": {
     "end_time": "2024-06-12T09:45:01.837503Z",
     "start_time": "2024-06-12T09:45:00.775820Z"
    }
   },
   "cell_type": "code",
   "source": [
    "# tokens = {\"ID\": 38803221, \"Access_token\": 'cee165ac6b8f4c4db712e81accbfafeed0cc5f7a', \"Refresh_token\": '840befc02a4dca632ce7439fc082942c282f4e70'}\n",
    "\n",
    "for response_id in responses.index:\n",
    "    response = responses.loc[response_id]\n",
    "    # print(response.to_dict())\n",
    "    try:\n",
    "        parts = response[\"URL\"].split(\"&\")\n",
    "        code = parts[1][5:]\n",
    "        tokens = get_access_tokens(code)\n",
    "        if tokens:\n",
    "            if \"message\" in tokens.keys():\n",
    "                print(\"link extraction failed\")\n",
    "            else:\n",
    "                responses.loc[response_id, \"ID\"] = tokens[\"ID\"]\n",
    "                responses.loc[response_id, \"Refresh_token\"] = tokens[\"Refresh_token\"]\n",
    "                responses.loc[response_id, \"Access_token\"] = tokens[\"Access_token\"]\n",
    "                responses.loc[response_id, \"Access_token\"] = tokens[\"Access_token\"]\n",
    "                responses = responses.loc[:, ~responses.columns.str.contains('^Unnamed')]\n",
    "                \n",
    "    except Exception as e:\n",
    "        # raise e\n",
    "        print(\"link extraction failed\")\n",
    "        \n",
    "if (responses.columns.str.contains('ID')).any():\n",
    "    responses = responses.set_index(\"ID\")\n",
    "else:\n",
    "    responses = None\n",
    "\n",
    "if responses is not None:    \n",
    "    responses.head()"
   ],
   "id": "28941d1d64e7f846",
   "outputs": [
    {
     "name": "stdout",
     "output_type": "stream",
     "text": [
      "link extraction failed\n",
      "link extraction failed\n"
     ]
    }
   ],
   "execution_count": 214
  },
  {
   "metadata": {
    "ExecuteTime": {
     "end_time": "2024-06-12T09:45:01.845842Z",
     "start_time": "2024-06-12T09:45:01.838835Z"
    }
   },
   "cell_type": "code",
   "source": [
    "access_data = pd.concat([access_data, responses], join='inner')\n",
    "access_data = access_data.loc[access_data.index.dropna()]\n",
    "# access_data.join(responses, on=\"ID\", how=\"left\")\n",
    "access_data.head(10)"
   ],
   "id": "f867fb1e979c2805",
   "outputs": [
    {
     "data": {
      "text/plain": [
       "           First_name Last_name                              Access_token  \\\n",
       "ID                                                                          \n",
       "963223.0         Neil  Hoskings  50a242b9cee0831afd21c4c69b50efcbd77cb2a7   \n",
       "98588012.0      Becky  Hoskings  779a0e50d83c0a058242421898b973fb36dd3b58   \n",
       "38781770.0      Clark   Roberts  f7292115d74a60e843bc89e71df889cf25d1157f   \n",
       "33370063.0        Tom   Beesley  e082250e89b5fd14702a192e5472cec508463e62   \n",
       "71665908.0     Sophie     Hurst  303457d3e3a5eb30b5ee8babc59fd40dcfbe09d5   \n",
       "14188705.0       Wais       Yip  a697cc6c8273752f78aa8f930de8f059de671afd   \n",
       "NaN             Alfie  Hoskings                                       NaN   \n",
       "38807221.0     Dobbie   The elf  6259ba1ba174925249ff64e263e8602e58bbdcdc   \n",
       "NaN               Ben  Hoskings                                       NaN   \n",
       "\n",
       "                                       Refresh_token  \n",
       "ID                                                    \n",
       "963223.0    0aa21162002e540df4dae47840ddc42f17745c75  \n",
       "98588012.0  23d2c1b7a49bc26cd22afb819b3a19d6db7ffcf3  \n",
       "38781770.0  ab54a8bd816db93297ef7cf7022ffa76e6efc36b  \n",
       "33370063.0  5a14aa37c6b245c36dccdb5b5c4467f1996d327c  \n",
       "71665908.0  bbe9aa060ed7423b16777886520dfc554bd6052e  \n",
       "14188705.0  995a9f58911040bf48924824e8e9bd8e843b5097  \n",
       "NaN                                              NaN  \n",
       "38807221.0  840befc02a4dca632ce7439fc082942c282f4e70  \n",
       "NaN                                              NaN  "
      ],
      "text/html": [
       "<div>\n",
       "<style scoped>\n",
       "    .dataframe tbody tr th:only-of-type {\n",
       "        vertical-align: middle;\n",
       "    }\n",
       "\n",
       "    .dataframe tbody tr th {\n",
       "        vertical-align: top;\n",
       "    }\n",
       "\n",
       "    .dataframe thead th {\n",
       "        text-align: right;\n",
       "    }\n",
       "</style>\n",
       "<table border=\"1\" class=\"dataframe\">\n",
       "  <thead>\n",
       "    <tr style=\"text-align: right;\">\n",
       "      <th></th>\n",
       "      <th>First_name</th>\n",
       "      <th>Last_name</th>\n",
       "      <th>Access_token</th>\n",
       "      <th>Refresh_token</th>\n",
       "    </tr>\n",
       "    <tr>\n",
       "      <th>ID</th>\n",
       "      <th></th>\n",
       "      <th></th>\n",
       "      <th></th>\n",
       "      <th></th>\n",
       "    </tr>\n",
       "  </thead>\n",
       "  <tbody>\n",
       "    <tr>\n",
       "      <th>963223.0</th>\n",
       "      <td>Neil</td>\n",
       "      <td>Hoskings</td>\n",
       "      <td>50a242b9cee0831afd21c4c69b50efcbd77cb2a7</td>\n",
       "      <td>0aa21162002e540df4dae47840ddc42f17745c75</td>\n",
       "    </tr>\n",
       "    <tr>\n",
       "      <th>98588012.0</th>\n",
       "      <td>Becky</td>\n",
       "      <td>Hoskings</td>\n",
       "      <td>779a0e50d83c0a058242421898b973fb36dd3b58</td>\n",
       "      <td>23d2c1b7a49bc26cd22afb819b3a19d6db7ffcf3</td>\n",
       "    </tr>\n",
       "    <tr>\n",
       "      <th>38781770.0</th>\n",
       "      <td>Clark</td>\n",
       "      <td>Roberts</td>\n",
       "      <td>f7292115d74a60e843bc89e71df889cf25d1157f</td>\n",
       "      <td>ab54a8bd816db93297ef7cf7022ffa76e6efc36b</td>\n",
       "    </tr>\n",
       "    <tr>\n",
       "      <th>33370063.0</th>\n",
       "      <td>Tom</td>\n",
       "      <td>Beesley</td>\n",
       "      <td>e082250e89b5fd14702a192e5472cec508463e62</td>\n",
       "      <td>5a14aa37c6b245c36dccdb5b5c4467f1996d327c</td>\n",
       "    </tr>\n",
       "    <tr>\n",
       "      <th>71665908.0</th>\n",
       "      <td>Sophie</td>\n",
       "      <td>Hurst</td>\n",
       "      <td>303457d3e3a5eb30b5ee8babc59fd40dcfbe09d5</td>\n",
       "      <td>bbe9aa060ed7423b16777886520dfc554bd6052e</td>\n",
       "    </tr>\n",
       "    <tr>\n",
       "      <th>14188705.0</th>\n",
       "      <td>Wais</td>\n",
       "      <td>Yip</td>\n",
       "      <td>a697cc6c8273752f78aa8f930de8f059de671afd</td>\n",
       "      <td>995a9f58911040bf48924824e8e9bd8e843b5097</td>\n",
       "    </tr>\n",
       "    <tr>\n",
       "      <th>NaN</th>\n",
       "      <td>Alfie</td>\n",
       "      <td>Hoskings</td>\n",
       "      <td>NaN</td>\n",
       "      <td>NaN</td>\n",
       "    </tr>\n",
       "    <tr>\n",
       "      <th>38807221.0</th>\n",
       "      <td>Dobbie</td>\n",
       "      <td>The elf</td>\n",
       "      <td>6259ba1ba174925249ff64e263e8602e58bbdcdc</td>\n",
       "      <td>840befc02a4dca632ce7439fc082942c282f4e70</td>\n",
       "    </tr>\n",
       "    <tr>\n",
       "      <th>NaN</th>\n",
       "      <td>Ben</td>\n",
       "      <td>Hoskings</td>\n",
       "      <td>NaN</td>\n",
       "      <td>NaN</td>\n",
       "    </tr>\n",
       "  </tbody>\n",
       "</table>\n",
       "</div>"
      ]
     },
     "execution_count": 215,
     "metadata": {},
     "output_type": "execute_result"
    }
   ],
   "execution_count": 215
  },
  {
   "metadata": {
    "ExecuteTime": {
     "end_time": "2024-06-12T09:47:41.574831Z",
     "start_time": "2024-06-12T09:47:41.571069Z"
    }
   },
   "cell_type": "code",
   "source": [
    "\n",
    "access_data.to_csv(\"access_data_update.tsv\", sep=\"\\t\", index=True)"
   ],
   "id": "4c11efc731bdb092",
   "outputs": [],
   "execution_count": 218
  },
  {
   "metadata": {
    "ExecuteTime": {
     "end_time": "2024-06-14T10:05:11.146712Z",
     "start_time": "2024-06-14T10:05:10.494157Z"
    }
   },
   "cell_type": "code",
   "source": [
    "import requests\n",
    "import json\n",
    "url = \"https://eu-west-2.aws.data.mongodb-api.com/app/data-izribar/endpoint/data/v1/action/findOne\"\n",
    "\n",
    "payload = json.dumps({\n",
    "    \"collection\": \"athlete_data\",\n",
    "    \"database\": \"godiva_data\",\n",
    "    \"dataSource\": \"Cluster0\"\n",
    "})\n",
    "\n",
    "headers = {\n",
    "  'Content-Type': 'application/json',\n",
    "  'Access-Control-Request-Headers': '*',\n",
    "  'api-key': 'b8bRma7UNr1eGbaQjBb2aftslsjCe3SGltB4acl8o5jC0hrNstH2O1zmaV8QT8zx',\n",
    "}\n",
    "\n",
    "response = requests.request(\"POST\", url, headers=headers, data=payload)\n",
    "\n",
    "print(response.text)\n"
   ],
   "id": "777e0d6af73e7271",
   "outputs": [
    {
     "name": "stdout",
     "output_type": "stream",
     "text": [
      "{\"document\":{\"_id\":\"66585b3e1941040e53220a27\",\"first_name\":\"Ben\",\"last_name\":\"Hoskings\",\"dob\":\"27/07/2002\",\"strava_id\":38807221,\"group\":\"REPS\"}}\n"
     ]
    }
   ],
   "execution_count": 3
  },
  {
   "metadata": {},
   "cell_type": "code",
   "outputs": [],
   "execution_count": null,
   "source": "",
   "id": "19fd1e22e293dca8"
  }
 ],
 "metadata": {
  "kernelspec": {
   "display_name": "Python 3",
   "language": "python",
   "name": "python3"
  },
  "language_info": {
   "codemirror_mode": {
    "name": "ipython",
    "version": 2
   },
   "file_extension": ".py",
   "mimetype": "text/x-python",
   "name": "python",
   "nbconvert_exporter": "python",
   "pygments_lexer": "ipython2",
   "version": "2.7.6"
  }
 },
 "nbformat": 4,
 "nbformat_minor": 5
}
