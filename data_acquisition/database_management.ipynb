{
 "cells": [
  {
   "metadata": {},
   "cell_type": "markdown",
   "source": "# Import client",
   "id": "adc711d298b6aa1e"
  },
  {
   "metadata": {
    "ExecuteTime": {
     "end_time": "2024-10-19T19:44:44.722209Z",
     "start_time": "2024-10-19T19:44:44.536603Z"
    }
   },
   "cell_type": "code",
   "source": [
    "import pymongo\n",
    "from dbclient import DBClient"
   ],
   "id": "ce10dc2197cfa77",
   "outputs": [],
   "execution_count": 1
  },
  {
   "metadata": {
    "ExecuteTime": {
     "end_time": "2024-10-19T19:44:45.071500Z",
     "start_time": "2024-10-19T19:44:44.723699Z"
    }
   },
   "cell_type": "code",
   "source": [
    "db_client = DBClient()\n",
    "db_client.check_connection()\n",
    "db_client.collections.keys()"
   ],
   "id": "7fc5a472cd9d234e",
   "outputs": [
    {
     "name": "stdout",
     "output_type": "stream",
     "text": [
      "Pinged your deployment. You successfully connected to MongoDB!\n"
     ]
    },
    {
     "data": {
      "text/plain": [
       "dict_keys(['members', 'athletes', 'coaches', 'activities', 'session_types', 'access_types', 'logins'])"
      ]
     },
     "execution_count": 2,
     "metadata": {},
     "output_type": "execute_result"
    }
   ],
   "execution_count": 2
  },
  {
   "metadata": {},
   "cell_type": "markdown",
   "source": "# Lookup tables",
   "id": "f6dc6ee791a0e593"
  },
  {
   "metadata": {},
   "cell_type": "code",
   "outputs": [
    {
     "name": "stdout",
     "output_type": "stream",
     "text": [
      "True\n",
      "All entries successfully cleared from access_types table.\n"
     ]
    },
    {
     "data": {
      "text/plain": [
       "ObjectId('67140c2d443bb10f35ce2325')"
      ]
     },
     "execution_count": 3,
     "metadata": {},
     "output_type": "execute_result"
    }
   ],
   "execution_count": 3,
   "source": [
    "db_client.clear_all(\"access_types\")\n",
    "\n",
    "access_types_lookup = [\n",
    "    {\"name\": \"invalid\", \"description\": \"No access to any application data\"},\n",
    "    {\"name\": \"admin\", \"description\": \"Full access to the application\"},\n",
    "    {\"name\": \"individual\", \"description\": \"Access to the personal data only\"},\n",
    "    {\"name\": \"reps_coach\", \"description\": \"Access to the REPS data only\"},\n",
    "]\n",
    "\n",
    "db_client.collections[\"access_types\"].insert_many(access_types_lookup)\n",
    "\n",
    "# db_client.collections[\"access_types\"].create_index([(\"accessId\", pymongo.ASCENDING)], unique=True)\n",
    "\n",
    "db_client.collections[\"access_types\"].find_one({\"name\": \"admin\"})[\"_id\"]"
   ],
   "id": "88e862cf0abc2cf6"
  },
  {
   "metadata": {},
   "cell_type": "markdown",
   "source": "## Member Declaration",
   "id": "5a485649b23cf889"
  },
  {
   "metadata": {},
   "cell_type": "code",
   "outputs": [],
   "execution_count": 4,
   "source": [
    "group_ids = {\n",
    "    group: db_client.collections[\"access_types\"].find_one({\"name\": group})[\"_id\"]\n",
    "    for group in [\"admin\", \"individual\", \"reps_coach\", \"invalid\"]\n",
    "}\n",
    "\n",
    "member_data = [\n",
    "    # System Admins \n",
    "    {\"accessId\": group_ids[\"admin\"], \"first_name\": \"Ben\", \"last_name\": \"Hoskings\", \"strava_id\": 38807221, \"dob\": \"27/07/2002\"},\n",
    "    \n",
    "    # Coaches\n",
    "    {\"accessId\": group_ids[\"reps_coach\"], \"first_name\": \"Clark\", \"last_name\": \"Roberts\", \"strava_id\": 38781770, \"dob\": \"\"},\n",
    "    \n",
    "    # Standard Members\n",
    "    {\"accessId\": group_ids[\"individual\"], \"first_name\": \"Neil\", \"last_name\": \"Hoskings\", \"strava_id\": 963223, \"dob\": \"14/08/1964\"},\n",
    "    {\"accessId\": group_ids[\"individual\"], \"first_name\": \"Becky\", \"last_name\": \"Hoskings\", \"strava_id\": 98588012, \"dob\": \"13/03/1972\"},\n",
    "    {\"accessId\": group_ids[\"individual\"], \"first_name\": \"Tom\", \"last_name\": \"Beesley\", \"strava_id\": 33370063, \"dob\": \"\"},\n",
    "    {\"accessId\": group_ids[\"individual\"], \"first_name\": \"Sophie\", \"last_name\": \"Hurst\", \"strava_id\": 71665908, \"dob\": \"\"},\n",
    "    {\"accessId\": group_ids[\"individual\"], \"first_name\": \"Wais\", \"last_name\": \"Yip\", \"strava_id\": 14188705, \"dob\": \"\"}\n",
    "]"
   ],
   "id": "3408866f3cff4ab6"
  },
  {
   "metadata": {},
   "cell_type": "code",
   "outputs": [
    {
     "name": "stdout",
     "output_type": "stream",
     "text": [
      "True\n",
      "All entries successfully cleared from members table.\n"
     ]
    },
    {
     "data": {
      "text/plain": [
       "InsertManyResult([ObjectId('67140c2d443bb10f35ce2328'), ObjectId('67140c2d443bb10f35ce2329'), ObjectId('67140c2d443bb10f35ce232a'), ObjectId('67140c2d443bb10f35ce232b'), ObjectId('67140c2d443bb10f35ce232c'), ObjectId('67140c2d443bb10f35ce232d'), ObjectId('67140c2d443bb10f35ce232e')], acknowledged=True)"
      ]
     },
     "execution_count": 5,
     "metadata": {},
     "output_type": "execute_result"
    }
   ],
   "execution_count": 5,
   "source": [
    "db_client.clear_all(\"members\")\n",
    "db_client.collections[\"members\"].insert_many(member_data)"
   ],
   "id": "331d3df1228a1574"
  },
  {
   "metadata": {},
   "cell_type": "code",
   "outputs": [],
   "execution_count": 10,
   "source": [
    "group_ids = {\n",
    "    group: db_client.collections[\"access_types\"].find_one({\"name\": group})[\"_id\"]\n",
    "    for group in [\"admin\", \"individual\", \"reps_coach\", \"invalid\"]\n",
    "}\n",
    "\n",
    "login_details = [\n",
    "    {\"memberId\": db_client.get_object_id(\"members\", {\"first_name\": \"Ben\", \"last_name\": \"Hoskings\"}), \n",
    "     \"username\": \"b_hoskings\", \"password\": \"bHos\"},\n",
    "    {\"memberId\": db_client.get_object_id(\"members\", {\"first_name\": \"Clark\", \"last_name\": \"Roberts\"}), \n",
    "     \"username\": \"c_roberts\", \"password\": \"cRob\"}\n",
    "]"
   ],
   "id": "1c874469877ead3b"
  },
  {
   "metadata": {},
   "cell_type": "code",
   "outputs": [
    {
     "name": "stdout",
     "output_type": "stream",
     "text": [
      "True\n",
      "All entries successfully cleared from logins table.\n"
     ]
    },
    {
     "data": {
      "text/plain": [
       "InsertManyResult([ObjectId('67140cb6443bb10f35ce2330'), ObjectId('67140cb6443bb10f35ce2331')], acknowledged=True)"
      ]
     },
     "execution_count": 11,
     "metadata": {},
     "output_type": "execute_result"
    }
   ],
   "execution_count": 11,
   "source": [
    "db_client.clear_all(\"logins\")\n",
    "db_client.collections[\"logins\"].insert_many(login_details)"
   ],
   "id": "9b95253a1b68c043"
  },
  {
   "metadata": {},
   "cell_type": "markdown",
   "source": "## Coach Declaration",
   "id": "be9f13d4f6bf5fe5"
  },
  {
   "metadata": {},
   "cell_type": "code",
   "outputs": [
    {
     "name": "stdout",
     "output_type": "stream",
     "text": [
      "True\n",
      "All entries successfully cleared from coaches table.\n"
     ]
    },
    {
     "data": {
      "text/plain": [
       "InsertManyResult([ObjectId('67140d5b443bb10f35ce2332')], acknowledged=True)"
      ]
     },
     "execution_count": 12,
     "metadata": {},
     "output_type": "execute_result"
    }
   ],
   "execution_count": 12,
   "source": [
    "coach_data = [\n",
    "    {\"memberId\": db_client.get_object_id(\"members\", {\"first_name\": \"Clark\", \"last_name\": \"Roberts\"}), \n",
    "     \"startDate\": \"2020-02-01\", \"lastTrainingDate\": \"2021-01-01\"}\n",
    "]\n",
    "\n",
    "db_client.clear_all(\"coaches\")\n",
    "db_client.collections[\"coaches\"].insert_many(coach_data)"
   ],
   "id": "70736442179e0cad"
  },
  {
   "metadata": {},
   "cell_type": "markdown",
   "source": "## Athlete Declaration",
   "id": "71f432444ddc08c9"
  },
  {
   "metadata": {
    "ExecuteTime": {
     "end_time": "2024-10-19T20:00:46.607016Z",
     "start_time": "2024-10-19T20:00:46.406712Z"
    }
   },
   "cell_type": "code",
   "source": [
    "coach_ids = {\n",
    "    coach_name[0]: db_client.get_object_id(\n",
    "        \"members\", \n",
    "        db_client.get_object_id(\"members\", {\"first_name\": coach_name[0], \"last_name\": coach_name[1]})\n",
    "    )\n",
    "    for coach_name in [\n",
    "        (\"Clark\", \"Roberts\")\n",
    "    ]\n",
    "}\n",
    "\n",
    "athlete_data = [\n",
    "    {\"memberId\": db_client.get_object_id(\"members\", {\"first_name\": \"Clark\", \"last_name\": \"Roberts\"}), \n",
    "     \"coachId\": None}, \n",
    "    {\"memberId\": db_client.get_object_id(\"members\", {\"first_name\": \"Ben\", \"last_name\": \"Hoskings\"}), \n",
    "     \"coachId\": coach_ids[\"Clark\"]}, \n",
    "    {\"memberId\": db_client.get_object_id(\"members\", {\"first_name\": \"Sophie\", \"last_name\": \"Hurst\"}), \n",
    "     \"coachId\": coach_ids[\"Clark\"]}, \n",
    "    {\"memberId\": db_client.get_object_id(\"members\", {\"first_name\": \"Wais\", \"last_name\": \"Yip\"}), \n",
    "     \"coachId\": coach_ids[\"Clark\"]}\n",
    "]\n",
    "db_client.clear_all(\"athletes\")\n",
    "db_client.collections[\"athletes\"].insert_many(athlete_data)"
   ],
   "id": "d595b0c7184a1f8d",
   "outputs": [
    {
     "name": "stdout",
     "output_type": "stream",
     "text": [
      "True\n",
      "All entries successfully cleared from athletes table.\n"
     ]
    },
    {
     "data": {
      "text/plain": [
       "InsertManyResult([ObjectId('67140fee443bb10f35ce2335'), ObjectId('67140fee443bb10f35ce2336'), ObjectId('67140fee443bb10f35ce2337'), ObjectId('67140fee443bb10f35ce2338')], acknowledged=True)"
      ]
     },
     "execution_count": 15,
     "metadata": {},
     "output_type": "execute_result"
    }
   ],
   "execution_count": 15
  },
  {
   "metadata": {},
   "cell_type": "code",
   "outputs": [],
   "execution_count": null,
   "source": "",
   "id": "9ba25db1175b3848"
  }
 ],
 "metadata": {
  "kernelspec": {
   "display_name": "Python 3",
   "language": "python",
   "name": "python3"
  },
  "language_info": {
   "codemirror_mode": {
    "name": "ipython",
    "version": 2
   },
   "file_extension": ".py",
   "mimetype": "text/x-python",
   "name": "python",
   "nbconvert_exporter": "python",
   "pygments_lexer": "ipython2",
   "version": "2.7.6"
  }
 },
 "nbformat": 4,
 "nbformat_minor": 5
}
