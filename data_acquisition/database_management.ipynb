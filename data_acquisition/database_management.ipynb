{
 "cells": [
  {
   "metadata": {},
   "cell_type": "markdown",
   "source": "# Import client",
   "id": "adc711d298b6aa1e"
  },
  {
   "metadata": {
    "ExecuteTime": {
     "end_time": "2024-10-12T16:07:50.708051Z",
     "start_time": "2024-10-12T16:07:50.705575Z"
    }
   },
   "cell_type": "code",
   "source": [
    "import pymongo\n",
    "from dbclient import DBClient"
   ],
   "id": "ce10dc2197cfa77",
   "outputs": [],
   "execution_count": 9
  },
  {
   "metadata": {
    "ExecuteTime": {
     "end_time": "2024-10-12T16:07:51.073537Z",
     "start_time": "2024-10-12T16:07:50.714889Z"
    }
   },
   "cell_type": "code",
   "source": [
    "db_client = DBClient()\n",
    "db_client.check_connection()\n",
    "db_client.collections.keys()"
   ],
   "id": "7fc5a472cd9d234e",
   "outputs": [
    {
     "name": "stdout",
     "output_type": "stream",
     "text": [
      "Pinged your deployment. You successfully connected to MongoDB!\n"
     ]
    },
    {
     "data": {
      "text/plain": [
       "dict_keys(['members', 'athletes', 'coaches', 'activities', 'session_types', 'access_types'])"
      ]
     },
     "execution_count": 10,
     "metadata": {},
     "output_type": "execute_result"
    }
   ],
   "execution_count": 10
  },
  {
   "metadata": {},
   "cell_type": "markdown",
   "source": "# Lookup tables",
   "id": "f6dc6ee791a0e593"
  },
  {
   "metadata": {
    "ExecuteTime": {
     "end_time": "2024-10-12T16:07:51.170827Z",
     "start_time": "2024-10-12T16:07:51.077465Z"
    }
   },
   "cell_type": "code",
   "source": [
    "db_client.clear_all(\"access_types\")\n",
    "\n",
    "access_types_lookup = [\n",
    "    {\"accessId\": None, \"description\": \"No access to any application data\"},\n",
    "    {\"accessId\": 0, \"description\": \"Full access to the application\"},\n",
    "    {\"accessId\": 1, \"description\": \"Access to the personal data only\"},\n",
    "    {\"accessId\": 2, \"description\": \"Access to the REPS data only\"},\n",
    "]\n",
    "\n",
    "db_client.collections[\"access_types\"].insert_many(access_types_lookup)\n",
    "\n",
    "db_client.collections[\"access_types\"].create_index([(\"accessId\", pymongo.ASCENDING)], unique=True)"
   ],
   "id": "88e862cf0abc2cf6",
   "outputs": [
    {
     "name": "stdout",
     "output_type": "stream",
     "text": [
      "True\n",
      "All entries successfully cleared from access_types table.\n"
     ]
    },
    {
     "data": {
      "text/plain": [
       "'accessId_1'"
      ]
     },
     "execution_count": 12,
     "metadata": {},
     "output_type": "execute_result"
    }
   ],
   "execution_count": 12
  },
  {
   "metadata": {
    "ExecuteTime": {
     "end_time": "2024-10-12T16:07:51.175180Z",
     "start_time": "2024-10-12T16:07:51.173821Z"
    }
   },
   "cell_type": "code",
   "source": [
    "member_data = [\n",
    "    {\"memberId\": 1, \"firstName\": \"Ben\", \"lastName\": \"Hoskings\"}\n",
    "]"
   ],
   "id": "3408866f3cff4ab6",
   "outputs": [],
   "execution_count": 12
  }
 ],
 "metadata": {
  "kernelspec": {
   "display_name": "Python 3",
   "language": "python",
   "name": "python3"
  },
  "language_info": {
   "codemirror_mode": {
    "name": "ipython",
    "version": 2
   },
   "file_extension": ".py",
   "mimetype": "text/x-python",
   "name": "python",
   "nbconvert_exporter": "python",
   "pygments_lexer": "ipython2",
   "version": "2.7.6"
  }
 },
 "nbformat": 4,
 "nbformat_minor": 5
}
