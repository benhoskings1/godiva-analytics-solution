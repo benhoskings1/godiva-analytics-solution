{
 "cells": [
  {
   "metadata": {},
   "cell_type": "markdown",
   "source": "# Import client",
   "id": "adc711d298b6aa1e"
  },
  {
   "metadata": {
    "ExecuteTime": {
     "end_time": "2024-10-20T13:35:20.498900Z",
     "start_time": "2024-10-20T13:35:20.497079Z"
    }
   },
   "cell_type": "code",
   "source": [
    "import pymongo\n",
    "from dbclient import DBClient"
   ],
   "id": "ce10dc2197cfa77",
   "outputs": [],
   "execution_count": 39
  },
  {
   "metadata": {
    "ExecuteTime": {
     "end_time": "2024-10-20T13:35:21.116107Z",
     "start_time": "2024-10-20T13:35:20.510803Z"
    }
   },
   "cell_type": "code",
   "source": [
    "db_client = DBClient()\n",
    "db_client.check_connection()\n",
    "db_client.collections.keys()"
   ],
   "id": "7fc5a472cd9d234e",
   "outputs": [
    {
     "name": "stdout",
     "output_type": "stream",
     "text": [
      "Pinged your deployment. You successfully connected to MongoDB!\n"
     ]
    },
    {
     "data": {
      "text/plain": [
       "dict_keys(['members', 'athletes', 'coaches', 'activities', 'session_types', 'access_types', 'logins'])"
      ]
     },
     "execution_count": 40,
     "metadata": {},
     "output_type": "execute_result"
    }
   ],
   "execution_count": 40
  },
  {
   "metadata": {},
   "cell_type": "markdown",
   "source": "# Lookup tables",
   "id": "f6dc6ee791a0e593"
  },
  {
   "metadata": {
    "ExecuteTime": {
     "end_time": "2024-10-20T13:35:21.211176Z",
     "start_time": "2024-10-20T13:35:21.117456Z"
    }
   },
   "cell_type": "code",
   "source": [
    "db_client.clear_all(\"access_types\")\n",
    "\n",
    "access_types_lookup = [\n",
    "    {\"name\": \"invalid\", \"description\": \"No access to any application data\"},\n",
    "    {\"name\": \"admin\", \"description\": \"Full access to the application\"},\n",
    "    {\"name\": \"individual\", \"description\": \"Access to the personal data only\"},\n",
    "    {\"name\": \"reps_coach\", \"description\": \"Access to the REPS data only\"},\n",
    "]\n",
    "\n",
    "db_client.collections[\"access_types\"].insert_many(access_types_lookup)\n",
    "\n",
    "# db_client.collections[\"access_types\"].create_index([(\"accessId\", pymongo.ASCENDING)], unique=True)\n",
    "\n",
    "db_client.collections[\"access_types\"].find_one({\"name\": \"admin\"})[\"_id\"]"
   ],
   "id": "88e862cf0abc2cf6",
   "outputs": [
    {
     "name": "stdout",
     "output_type": "stream",
     "text": [
      "True\n",
      "All entries successfully cleared from access_types table.\n"
     ]
    },
    {
     "data": {
      "text/plain": [
       "ObjectId('67150719f907d4f3050f68f7')"
      ]
     },
     "execution_count": 41,
     "metadata": {},
     "output_type": "execute_result"
    }
   ],
   "execution_count": 41
  },
  {
   "metadata": {},
   "cell_type": "markdown",
   "source": "## Member Declaration",
   "id": "5a485649b23cf889"
  },
  {
   "metadata": {
    "ExecuteTime": {
     "end_time": "2024-10-20T13:35:21.319139Z",
     "start_time": "2024-10-20T13:35:21.212164Z"
    }
   },
   "cell_type": "code",
   "source": [
    "group_ids = {\n",
    "    group: db_client.collections[\"access_types\"].find_one({\"name\": group})[\"_id\"]\n",
    "    for group in [\"admin\", \"individual\", \"reps_coach\", \"invalid\"]\n",
    "}\n",
    "\n",
    "member_data = [\n",
    "    # System Admins \n",
    "    {\"accessId\": group_ids[\"admin\"], \"first_name\": \"Ben\", \"last_name\": \"Hoskings\", \"dob\": \"27/07/2002\"},\n",
    "    \n",
    "    # Coaches\n",
    "    {\"accessId\": group_ids[\"reps_coach\"], \"first_name\": \"Clark\", \"last_name\": \"Roberts\", \"dob\": \"\"},\n",
    "    \n",
    "    # Standard Members\n",
    "    {\"accessId\": group_ids[\"individual\"], \"first_name\": \"Neil\", \"last_name\": \"Hoskings\", \"dob\": \"14/08/1964\"},\n",
    "    {\"accessId\": group_ids[\"individual\"], \"first_name\": \"Becky\", \"last_name\": \"Hoskings\", \"dob\": \"13/03/1972\"},\n",
    "    {\"accessId\": group_ids[\"individual\"], \"first_name\": \"Tom\", \"last_name\": \"Beesley\", \"dob\": \"\"},\n",
    "    {\"accessId\": group_ids[\"individual\"], \"first_name\": \"Sophie\", \"last_name\": \"Hurst\", \"dob\": \"\"},\n",
    "    {\"accessId\": group_ids[\"individual\"], \"first_name\": \"Wais\", \"last_name\": \"Yip\", \"dob\": \"\"}\n",
    "]"
   ],
   "id": "3408866f3cff4ab6",
   "outputs": [],
   "execution_count": 42
  },
  {
   "metadata": {
    "ExecuteTime": {
     "end_time": "2024-10-20T13:35:21.387007Z",
     "start_time": "2024-10-20T13:35:21.320859Z"
    }
   },
   "cell_type": "code",
   "source": [
    "db_client.clear_all(\"members\")\n",
    "db_client.collections[\"members\"].insert_many(member_data)"
   ],
   "id": "331d3df1228a1574",
   "outputs": [
    {
     "name": "stdout",
     "output_type": "stream",
     "text": [
      "True\n",
      "All entries successfully cleared from members table.\n"
     ]
    },
    {
     "data": {
      "text/plain": [
       "InsertManyResult([ObjectId('67150719f907d4f3050f68fa'), ObjectId('67150719f907d4f3050f68fb'), ObjectId('67150719f907d4f3050f68fc'), ObjectId('67150719f907d4f3050f68fd'), ObjectId('67150719f907d4f3050f68fe'), ObjectId('67150719f907d4f3050f68ff'), ObjectId('67150719f907d4f3050f6900')], acknowledged=True)"
      ]
     },
     "execution_count": 43,
     "metadata": {},
     "output_type": "execute_result"
    }
   ],
   "execution_count": 43
  },
  {
   "metadata": {
    "ExecuteTime": {
     "end_time": "2024-10-20T13:35:21.548106Z",
     "start_time": "2024-10-20T13:35:21.387874Z"
    }
   },
   "cell_type": "code",
   "source": [
    "group_ids = {\n",
    "    group: db_client.collections[\"access_types\"].find_one({\"name\": group})[\"_id\"]\n",
    "    for group in [\"admin\", \"individual\", \"reps_coach\", \"invalid\"]\n",
    "}\n",
    "\n",
    "login_details = [\n",
    "    {\"memberId\": db_client.get_object_id(\"members\", {\"first_name\": \"Ben\", \"last_name\": \"Hoskings\"}), \n",
    "     \"user\": \"b_hoskings\", \"password\": \"bHos\"},\n",
    "    {\"memberId\": db_client.get_object_id(\"members\", {\"first_name\": \"Clark\", \"last_name\": \"Roberts\"}), \n",
    "     \"user\": \"c_roberts\", \"password\": \"cRob\"}\n",
    "]"
   ],
   "id": "1c874469877ead3b",
   "outputs": [],
   "execution_count": 44
  },
  {
   "metadata": {
    "ExecuteTime": {
     "end_time": "2024-10-20T13:35:21.612834Z",
     "start_time": "2024-10-20T13:35:21.548983Z"
    }
   },
   "cell_type": "code",
   "source": [
    "db_client.clear_all(\"logins\")\n",
    "db_client.collections[\"logins\"].insert_many(login_details)"
   ],
   "id": "9b95253a1b68c043",
   "outputs": [
    {
     "name": "stdout",
     "output_type": "stream",
     "text": [
      "True\n",
      "All entries successfully cleared from logins table.\n"
     ]
    },
    {
     "data": {
      "text/plain": [
       "InsertManyResult([ObjectId('67150719f907d4f3050f6901'), ObjectId('67150719f907d4f3050f6902')], acknowledged=True)"
      ]
     },
     "execution_count": 45,
     "metadata": {},
     "output_type": "execute_result"
    }
   ],
   "execution_count": 45
  },
  {
   "metadata": {},
   "cell_type": "markdown",
   "source": "## Coach Declaration",
   "id": "be9f13d4f6bf5fe5"
  },
  {
   "metadata": {
    "ExecuteTime": {
     "end_time": "2024-10-20T13:35:21.702042Z",
     "start_time": "2024-10-20T13:35:21.613684Z"
    }
   },
   "cell_type": "code",
   "source": [
    "coach_data = [\n",
    "    {\"memberId\": db_client.get_object_id(\"members\", {\"first_name\": \"Clark\", \"last_name\": \"Roberts\"}), \n",
    "     \"startDate\": \"2020-02-01\", \"lastTrainingDate\": \"2021-01-01\"}\n",
    "]\n",
    "\n",
    "db_client.clear_all(\"coaches\")\n",
    "db_client.collections[\"coaches\"].insert_many(coach_data)"
   ],
   "id": "70736442179e0cad",
   "outputs": [
    {
     "name": "stdout",
     "output_type": "stream",
     "text": [
      "True\n",
      "All entries successfully cleared from coaches table.\n"
     ]
    },
    {
     "data": {
      "text/plain": [
       "InsertManyResult([ObjectId('67150719f907d4f3050f6903')], acknowledged=True)"
      ]
     },
     "execution_count": 46,
     "metadata": {},
     "output_type": "execute_result"
    }
   ],
   "execution_count": 46
  },
  {
   "metadata": {},
   "cell_type": "markdown",
   "source": "## Athlete Declaration",
   "id": "71f432444ddc08c9"
  },
  {
   "metadata": {
    "ExecuteTime": {
     "end_time": "2024-10-20T13:35:22.017722Z",
     "start_time": "2024-10-20T13:35:21.702732Z"
    }
   },
   "cell_type": "code",
   "source": [
    "coach_ids = {\n",
    "    coach_name[0]: db_client.get_object_id(\n",
    "        \"members\", \n",
    "        db_client.get_object_id(\"members\", {\"first_name\": coach_name[0], \"last_name\": coach_name[1]})\n",
    "    )\n",
    "    for coach_name in [\n",
    "        (\"Clark\", \"Roberts\")\n",
    "    ]\n",
    "}\n",
    "\n",
    "athlete_data = [\n",
    "    {\n",
    "        \"memberId\": db_client.get_object_id(\"members\", {\"first_name\": \"Clark\", \"last_name\": \"Roberts\"}), \n",
    "        \"coachId\": None, \n",
    "        \"stravaId\": 38781770,\n",
    "        \"accessToken\": None, \n",
    "        \"refreshToken\": None, \n",
    "        \"tokenExpiration\": None\n",
    "    }, \n",
    "    {\n",
    "        \"memberId\": db_client.get_object_id(\"members\", {\"first_name\": \"Ben\", \"last_name\": \"Hoskings\"}), \n",
    "        \"coachId\": coach_ids[\"Clark\"], \n",
    "        \"stravaId\": 38807221, \n",
    "        \"accessToken\": None, \n",
    "        \"refreshToken\": None, \n",
    "        \"tokenExpiration\": None\n",
    "    }, \n",
    "    {\n",
    "        \"memberId\": db_client.get_object_id(\"members\", {\"first_name\": \"Sophie\", \"last_name\": \"Hurst\"}), \n",
    "        \"coachId\": coach_ids[\"Clark\"], \n",
    "        \"stravaId\": 71665908,\n",
    "        \"accessToken\": None, \n",
    "        \"refreshToken\": None, \n",
    "        \"tokenExpiration\": None\n",
    "    }, \n",
    "    {\n",
    "        \"memberId\": db_client.get_object_id(\"members\", {\"first_name\": \"Wais\", \"last_name\": \"Yip\"}), \n",
    "        \"coachId\": coach_ids[\"Clark\"], \n",
    "        \"stravaId\": 14188705,\n",
    "        \"accessToken\": None, \n",
    "        \"refreshToken\": None, \n",
    "        \"tokenExpiration\": None\n",
    "    }, \n",
    "    {\n",
    "        \"memberId\": db_client.get_object_id(\"members\", {\"first_name\": \"Tom\", \"last_name\": \"Beesley\"}), \n",
    "        \"coachId\": coach_ids[\"Clark\"], \n",
    "        \"stravaId\": 33370063,\n",
    "        \"accessToken\": None, \n",
    "        \"refreshToken\": None, \n",
    "        \"tokenExpiration\": None\n",
    "    }, \n",
    "    {\n",
    "        \"memberId\": db_client.get_object_id(\"members\", {\"first_name\": \"Neil\", \"last_name\": \"Hoskings\"}), \n",
    "        \"coachId\": None, \n",
    "        \"stravaId\": 963223,\n",
    "        \"accessToken\": None, \n",
    "        \"refreshToken\": None, \n",
    "        \"tokenExpiration\": None\n",
    "    }, \n",
    "    {\n",
    "        \"memberId\": db_client.get_object_id(\"members\", {\"first_name\": \"Becky\", \"last_name\": \"Hoskings\"}), \n",
    "        \"coachId\": None, \n",
    "        \"stravaId\": 98588012,\n",
    "        \"accessToken\": None, \n",
    "        \"refreshToken\": None, \n",
    "        \"tokenExpiration\": None\n",
    "    }\n",
    "]\n",
    "db_client.clear_all(\"athletes\")\n",
    "db_client.collections[\"athletes\"].insert_many(athlete_data)"
   ],
   "id": "d595b0c7184a1f8d",
   "outputs": [
    {
     "name": "stdout",
     "output_type": "stream",
     "text": [
      "True\n",
      "All entries successfully cleared from athletes table.\n"
     ]
    },
    {
     "data": {
      "text/plain": [
       "InsertManyResult([ObjectId('67150719f907d4f3050f6904'), ObjectId('67150719f907d4f3050f6905'), ObjectId('67150719f907d4f3050f6906'), ObjectId('67150719f907d4f3050f6907'), ObjectId('67150719f907d4f3050f6908'), ObjectId('67150719f907d4f3050f6909'), ObjectId('67150719f907d4f3050f690a')], acknowledged=True)"
      ]
     },
     "execution_count": 47,
     "metadata": {},
     "output_type": "execute_result"
    }
   ],
   "execution_count": 47
  },
  {
   "metadata": {
    "ExecuteTime": {
     "end_time": "2024-10-20T13:35:22.045929Z",
     "start_time": "2024-10-20T13:35:22.018465Z"
    }
   },
   "cell_type": "code",
   "source": "db_client.collections[\"athletes\"].distinct(\"stravaId\")",
   "id": "9ba25db1175b3848",
   "outputs": [
    {
     "data": {
      "text/plain": [
       "[963223, 14188705, 33370063, 38781770, 38807221, 71665908, 98588012]"
      ]
     },
     "execution_count": 48,
     "metadata": {},
     "output_type": "execute_result"
    }
   ],
   "execution_count": 48
  },
  {
   "metadata": {
    "ExecuteTime": {
     "end_time": "2024-10-20T13:35:22.151646Z",
     "start_time": "2024-10-20T13:35:22.048498Z"
    }
   },
   "cell_type": "code",
   "source": [
    "db_client.clear_all(\"activities\")\n",
    "db_client.collections[\"activities\"].distinct(\"stravaActivityId\")"
   ],
   "id": "e5e5ddb3c75e58a8",
   "outputs": [
    {
     "name": "stdout",
     "output_type": "stream",
     "text": [
      "True\n",
      "All entries successfully cleared from activities table.\n"
     ]
    },
    {
     "data": {
      "text/plain": [
       "[]"
      ]
     },
     "execution_count": 49,
     "metadata": {},
     "output_type": "execute_result"
    }
   ],
   "execution_count": 49
  },
  {
   "metadata": {
    "ExecuteTime": {
     "end_time": "2024-10-20T13:35:22.204034Z",
     "start_time": "2024-10-20T13:35:22.152524Z"
    }
   },
   "cell_type": "code",
   "source": [
    "import datetime\n",
    "cut_off_date = datetime.datetime.now() - datetime.timedelta(days=100)\n",
    "\n",
    "activities = db_client.collections[\"activities\"].find({\"start_date_local\": {\"$lte\": cut_off_date.strftime(\"%Y-%m-%d\")}})\n",
    "for activity in activities:\n",
    "    print(activity[\"start_date_local\"], activity[\"stravaActivityId\"])\n",
    "\n"
   ],
   "id": "acd56d69465e0ee2",
   "outputs": [],
   "execution_count": 50
  },
  {
   "metadata": {
    "ExecuteTime": {
     "end_time": "2024-10-20T13:35:22.261664Z",
     "start_time": "2024-10-20T13:35:22.205089Z"
    }
   },
   "cell_type": "code",
   "source": "db_client.collections[\"activities\"].delete_many({\"start_date_local\": {\"$lte\": cut_off_date.strftime(\"%Y-%m-%d\")}})",
   "id": "13e273c78c12375c",
   "outputs": [
    {
     "data": {
      "text/plain": [
       "DeleteResult({'n': 0, 'electionId': ObjectId('7fffffff0000000000000019'), 'opTime': {'ts': Timestamp(1729431322, 212), 't': 25}, 'ok': 1.0, '$clusterTime': {'clusterTime': Timestamp(1729431322, 213), 'signature': {'hash': b'$\\xe1D=\\xb8^\\xc5a\\xba\\xaf\\x02%\\xc5_\\xe4Tps\\x81\\xf7', 'keyId': 7390100808886386690}}, 'operationTime': Timestamp(1729431322, 212)}, acknowledged=True)"
      ]
     },
     "execution_count": 51,
     "metadata": {},
     "output_type": "execute_result"
    }
   ],
   "execution_count": 51
  },
  {
   "metadata": {
    "ExecuteTime": {
     "end_time": "2024-10-20T15:57:06.065620Z",
     "start_time": "2024-10-20T15:57:05.330394Z"
    }
   },
   "cell_type": "code",
   "source": [
    "db_client.collections[\"activities\"].count_documents({\"athleteId\": db_client.get_object_id(\"athletes\", {\"memberId\": db_client.get_object_id(\"members\", {\"first_name\": \"Ben\", \"last_name\": \"Hoskings\"})})})\n",
    "ath_ids = db_client.collections[\"athletes\"].distinct(\"_id\")\n",
    "\n",
    "db_client.get_object_field(\"athletes\", field_name=\"memberId\", query={\"_id\": ath_ids[0]})\n",
    "\n",
    "db_client.get_object_field(\"members\", field_name=\"first_name\", query={\"_id\": db_client.get_object_field(\"athletes\", field_name=\"memberId\", query={\"_id\": ath_ids[0]})})\n",
    "\n",
    "{\n",
    "    db_client.get_object_field(\n",
    "        \"members\", \n",
    "        field_name=\"first_name\", \n",
    "        query= {\n",
    "            \"_id\": db_client.get_object_field(\n",
    "                \"athletes\", \n",
    "                field_name=\"memberId\", \n",
    "                query={\"_id\": ath_id}\n",
    "            )\n",
    "        }\n",
    "    ): db_client.collections[\"activities\"].count_documents({\"athleteId\": ath_id}) \n",
    "        for ath_id in ath_ids\n",
    "}"
   ],
   "id": "c54532d40828cd37",
   "outputs": [
    {
     "data": {
      "text/plain": [
       "{'Clark': 100,\n",
       " 'Ben': 34,\n",
       " 'Sophie': 90,\n",
       " 'Wais': 100,\n",
       " 'Tom': 100,\n",
       " 'Neil': 51,\n",
       " 'Becky': 0}"
      ]
     },
     "execution_count": 55,
     "metadata": {},
     "output_type": "execute_result"
    }
   ],
   "execution_count": 55
  },
  {
   "metadata": {
    "ExecuteTime": {
     "end_time": "2024-10-20T13:35:23.274114Z",
     "start_time": "2024-10-20T13:35:23.272785Z"
    }
   },
   "cell_type": "code",
   "source": "",
   "id": "8e6b41c9a8930c05",
   "outputs": [],
   "execution_count": 52
  }
 ],
 "metadata": {
  "kernelspec": {
   "display_name": "Python 3",
   "language": "python",
   "name": "python3"
  },
  "language_info": {
   "codemirror_mode": {
    "name": "ipython",
    "version": 2
   },
   "file_extension": ".py",
   "mimetype": "text/x-python",
   "name": "python",
   "nbconvert_exporter": "python",
   "pygments_lexer": "ipython2",
   "version": "2.7.6"
  }
 },
 "nbformat": 4,
 "nbformat_minor": 5
}
