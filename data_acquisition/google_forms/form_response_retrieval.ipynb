{
 "cells": [
  {
   "cell_type": "code",
   "id": "initial_id",
   "metadata": {
    "collapsed": true,
    "ExecuteTime": {
     "end_time": "2024-10-23T16:50:08.843068Z",
     "start_time": "2024-10-23T16:50:08.758415Z"
    }
   },
   "source": [
    "from apiclient import discovery\n",
    "from httplib2 import Http\n",
    "from oauth2client import client, file, tools\n",
    "\n",
    "SCOPES = \"https://www.googleapis.com/auth/forms.responses.readonly\"\n",
    "DISCOVERY_DOC = \"https://forms.googleapis.com/$discovery/rest?version=v1\"\n",
    "\n",
    "store = file.Storage(\"../api_credentials/forms_api_credentials.json\")\n",
    "creds = None\n",
    "if not creds or creds.invalid:\n",
    "  flow = client.flow_from_clientsecrets(\"../api_credentials/forms_api_client_secret.json\", SCOPES)\n",
    "  creds = tools.run_flow(flow, store)\n",
    "service = discovery.build(\n",
    "    \"forms\",\n",
    "    \"v1\",\n",
    "    http=creds.authorize(Http()),\n",
    "    discoveryServiceUrl=DISCOVERY_DOC,\n",
    "    static_discovery=False,\n",
    ")\n",
    "\n",
    "# Prints the responses of your specified form:\n",
    "form_id = \"162rGRdf_Mk7vkZ48DjzA2YG3l7XF_-r7vzuXqG4lUAw\"\n",
    "result = service.forms().responses().list(formId=form_id).execute()\n",
    "print(result)"
   ],
   "outputs": [
    {
     "name": "stderr",
     "output_type": "stream",
     "text": [
      "usage: ipykernel_launcher.py [--auth_host_name AUTH_HOST_NAME]\n",
      "                             [--noauth_local_webserver]\n",
      "                             [--auth_host_port [AUTH_HOST_PORT ...]]\n",
      "                             [--logging_level {DEBUG,INFO,WARNING,ERROR,CRITICAL}]\n",
      "ipykernel_launcher.py: error: unrecognized arguments: -f /Users/benhoskings/Library/Jupyter/runtime/kernel-c78527ac-3af7-4a1e-abad-1648110f22d8.json\n"
     ]
    },
    {
     "ename": "SystemExit",
     "evalue": "2",
     "output_type": "error",
     "traceback": [
      "An exception has occurred, use %tb to see the full traceback.\n",
      "\u001B[0;31mSystemExit\u001B[0m\u001B[0;31m:\u001B[0m 2\n"
     ]
    },
    {
     "name": "stderr",
     "output_type": "stream",
     "text": [
      "/Users/benhoskings/Documents/Pycharm/godiva-analytics-solution/venv/lib/python3.10/site-packages/IPython/core/interactiveshell.py:3585: UserWarning: To exit: use 'exit', 'quit', or Ctrl-D.\n",
      "  warn(\"To exit: use 'exit', 'quit', or Ctrl-D.\", stacklevel=1)\n"
     ]
    }
   ],
   "execution_count": 1
  }
 ],
 "metadata": {
  "kernelspec": {
   "display_name": "Python 3",
   "language": "python",
   "name": "python3"
  },
  "language_info": {
   "codemirror_mode": {
    "name": "ipython",
    "version": 2
   },
   "file_extension": ".py",
   "mimetype": "text/x-python",
   "name": "python",
   "nbconvert_exporter": "python",
   "pygments_lexer": "ipython2",
   "version": "2.7.6"
  }
 },
 "nbformat": 4,
 "nbformat_minor": 5
}
