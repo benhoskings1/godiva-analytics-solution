{
 "cells": [
  {
   "cell_type": "code",
   "id": "initial_id",
   "metadata": {
    "collapsed": true,
    "ExecuteTime": {
     "end_time": "2024-08-28T19:32:19.214778Z",
     "start_time": "2024-08-28T19:32:18.985169Z"
    }
   },
   "source": [
    "import pandas as pd\n",
    "import requests\n",
    "\n",
    "from register_new_users import MemberManager"
   ],
   "outputs": [],
   "execution_count": 1
  },
  {
   "metadata": {
    "ExecuteTime": {
     "end_time": "2024-08-28T19:32:19.218087Z",
     "start_time": "2024-08-28T19:32:19.215906Z"
    }
   },
   "cell_type": "code",
   "source": "manager = MemberManager()",
   "id": "94ee9604660ed255",
   "outputs": [],
   "execution_count": 2
  },
  {
   "metadata": {
    "ExecuteTime": {
     "end_time": "2024-08-28T19:32:20.178589Z",
     "start_time": "2024-08-28T19:32:19.218791Z"
    }
   },
   "cell_type": "code",
   "source": [
    "responses = manager.get_responses(\"register\")\n",
    "responses[\"First_name\"] = responses[\"First Name\"]\n",
    "responses[\"Last_name\"] = responses[\"Last Name\"]\n",
    "responses = responses.drop([\"First Name\", \"Last Name\"], axis=1)\n",
    "responses.head(3)"
   ],
   "id": "d7f06f4b32bcca49",
   "outputs": [
    {
     "data": {
      "text/plain": [
       "                                                                                                  URL  \\\n",
       "ACYDBNhqD4n2G_ao89Rr0s7xGPei9VJLRQFDx0jY_S5yBNW...  http://localhost/exchange_token?state=&code=12...   \n",
       "ACYDBNgaQAoZxX14iD5yxQV2wlhMsKsINrW62nIEGLQC8rC...  http://localhost/exchange_token?state=&code=af...   \n",
       "\n",
       "                                                   First_name Last_name  \n",
       "ACYDBNhqD4n2G_ao89Rr0s7xGPei9VJLRQFDx0jY_S5yBNW...        Ben  Hoskings  \n",
       "ACYDBNgaQAoZxX14iD5yxQV2wlhMsKsINrW62nIEGLQC8rC...  Benjamina       Hos  "
      ],
      "text/html": [
       "<div>\n",
       "<style scoped>\n",
       "    .dataframe tbody tr th:only-of-type {\n",
       "        vertical-align: middle;\n",
       "    }\n",
       "\n",
       "    .dataframe tbody tr th {\n",
       "        vertical-align: top;\n",
       "    }\n",
       "\n",
       "    .dataframe thead th {\n",
       "        text-align: right;\n",
       "    }\n",
       "</style>\n",
       "<table border=\"1\" class=\"dataframe\">\n",
       "  <thead>\n",
       "    <tr style=\"text-align: right;\">\n",
       "      <th></th>\n",
       "      <th>URL</th>\n",
       "      <th>First_name</th>\n",
       "      <th>Last_name</th>\n",
       "    </tr>\n",
       "  </thead>\n",
       "  <tbody>\n",
       "    <tr>\n",
       "      <th>ACYDBNhqD4n2G_ao89Rr0s7xGPei9VJLRQFDx0jY_S5yBNW46DdrgtaSAwh9F26u6BjW148</th>\n",
       "      <td>http://localhost/exchange_token?state=&amp;code=12...</td>\n",
       "      <td>Ben</td>\n",
       "      <td>Hoskings</td>\n",
       "    </tr>\n",
       "    <tr>\n",
       "      <th>ACYDBNgaQAoZxX14iD5yxQV2wlhMsKsINrW62nIEGLQC8rCZSrUGobgZBkM89rSSikuaxAs</th>\n",
       "      <td>http://localhost/exchange_token?state=&amp;code=af...</td>\n",
       "      <td>Benjamina</td>\n",
       "      <td>Hos</td>\n",
       "    </tr>\n",
       "  </tbody>\n",
       "</table>\n",
       "</div>"
      ]
     },
     "execution_count": 3,
     "metadata": {},
     "output_type": "execute_result"
    }
   ],
   "execution_count": 3
  },
  {
   "metadata": {
    "ExecuteTime": {
     "end_time": "2024-08-28T19:32:59.209536Z",
     "start_time": "2024-08-28T19:32:58.425174Z"
    }
   },
   "cell_type": "code",
   "source": [
    "responses = manager.get_responses(\"session_input\")\n",
    "print(responses.shape)\n",
    "responses.head(10)"
   ],
   "id": "cfbf5c2d4d41ccf6",
   "outputs": [
    {
     "name": "stdout",
     "output_type": "stream",
     "text": [
      "(6, 4)\n"
     ]
    },
    {
     "data": {
      "text/plain": [
       "                                                            name        date  \\\n",
       "ACYDBNit2IepGblmkwIZHVbt7HAVpp8XKieP7g9nVwS8wNf...  Sam Marshall  2024-08-20   \n",
       "ACYDBNhcg1ajR_6KRY-xBEnwMcKrpplAFsd3r2eqbXjewrR...  Sam Marshall  2024-08-22   \n",
       "ACYDBNhVeZE0tvz0axC9ApMsFcBhaygFtKKf25e23u0WZtK...         Jodie  2024-08-27   \n",
       "ACYDBNgOxGsejQSR7emEBhLTy5ZaUz_SP4RlZte-gng0uBB...  Sam Marshall  2024-08-27   \n",
       "ACYDBNi41iqyuYteIc14cOOgNxBY9AUkbWd2XtTK_eQI1Vd...           Ant  2024-08-27   \n",
       "ACYDBNiUZeJFg4EfC1C09d5FFqkgVh-bf41W0VeJNNUzSXZ...  Sam Marshall  2024-08-24   \n",
       "\n",
       "                                                                                           other_info  \\\n",
       "ACYDBNit2IepGblmkwIZHVbt7HAVpp8XKieP7g9nVwS8wNf...                                              grass   \n",
       "ACYDBNhcg1ajR_6KRY-xBEnwMcKrpplAFsd3r2eqbXjewrR...                                      Mile,K,Mile,K   \n",
       "ACYDBNhVeZE0tvz0axC9ApMsFcBhaygFtKKf25e23u0WZtK...  Two reps but stopped after 1 half little pain ...   \n",
       "ACYDBNgOxGsejQSR7emEBhLTy5ZaUz_SP4RlZte-gng0uBB...                                         3x(5x300m)   \n",
       "ACYDBNi41iqyuYteIc14cOOgNxBY9AUkbWd2XtTK_eQI1Vd...                                               None   \n",
       "ACYDBNiUZeJFg4EfC1C09d5FFqkgVh-bf41W0VeJNNUzSXZ...                                            parkrun   \n",
       "\n",
       "                                                                                             rep_info  \n",
       "ACYDBNit2IepGblmkwIZHVbt7HAVpp8XKieP7g9nVwS8wNf...     lap time   dist pace \\n1     1 1:01   0.16 ...  \n",
       "ACYDBNhcg1ajR_6KRY-xBEnwMcKrpplAFsd3r2eqbXjewrR...      lap time   dist pace \\n1     1 6:07   0.99...  \n",
       "ACYDBNhVeZE0tvz0axC9ApMsFcBhaygFtKKf25e23u0WZtK...                                   60, 80, 100, 120  \n",
       "ACYDBNgOxGsejQSR7emEBhLTy5ZaUz_SP4RlZte-gng0uBB...      lap time   dist pace \\n 1     1 1:00   0.1...  \n",
       "ACYDBNi41iqyuYteIc14cOOgNxBY9AUkbWd2XtTK_eQI1Vd...                                    3 sets of 300x5  \n",
       "ACYDBNiUZeJFg4EfC1C09d5FFqkgVh-bf41W0VeJNNUzSXZ...                                              18:44  "
      ],
      "text/html": [
       "<div>\n",
       "<style scoped>\n",
       "    .dataframe tbody tr th:only-of-type {\n",
       "        vertical-align: middle;\n",
       "    }\n",
       "\n",
       "    .dataframe tbody tr th {\n",
       "        vertical-align: top;\n",
       "    }\n",
       "\n",
       "    .dataframe thead th {\n",
       "        text-align: right;\n",
       "    }\n",
       "</style>\n",
       "<table border=\"1\" class=\"dataframe\">\n",
       "  <thead>\n",
       "    <tr style=\"text-align: right;\">\n",
       "      <th></th>\n",
       "      <th>name</th>\n",
       "      <th>date</th>\n",
       "      <th>other_info</th>\n",
       "      <th>rep_info</th>\n",
       "    </tr>\n",
       "  </thead>\n",
       "  <tbody>\n",
       "    <tr>\n",
       "      <th>ACYDBNit2IepGblmkwIZHVbt7HAVpp8XKieP7g9nVwS8wNfLdr4VBCrU3pmCJnqtrWe1Vzk</th>\n",
       "      <td>Sam Marshall</td>\n",
       "      <td>2024-08-20</td>\n",
       "      <td>grass</td>\n",
       "      <td>lap time   dist pace \\n1     1 1:01   0.16 ...</td>\n",
       "    </tr>\n",
       "    <tr>\n",
       "      <th>ACYDBNhcg1ajR_6KRY-xBEnwMcKrpplAFsd3r2eqbXjewrRzsBvDJLeHC473H0iUA0-6OFc</th>\n",
       "      <td>Sam Marshall</td>\n",
       "      <td>2024-08-22</td>\n",
       "      <td>Mile,K,Mile,K</td>\n",
       "      <td>lap time   dist pace \\n1     1 6:07   0.99...</td>\n",
       "    </tr>\n",
       "    <tr>\n",
       "      <th>ACYDBNhVeZE0tvz0axC9ApMsFcBhaygFtKKf25e23u0WZtKJ3Y7K9bVt9gsgwa9B_Zwjb7g</th>\n",
       "      <td>Jodie</td>\n",
       "      <td>2024-08-27</td>\n",
       "      <td>Two reps but stopped after 1 half little pain ...</td>\n",
       "      <td>60, 80, 100, 120</td>\n",
       "    </tr>\n",
       "    <tr>\n",
       "      <th>ACYDBNgOxGsejQSR7emEBhLTy5ZaUz_SP4RlZte-gng0uBBlEVUcD2BoWdqAem_qaEr8eew</th>\n",
       "      <td>Sam Marshall</td>\n",
       "      <td>2024-08-27</td>\n",
       "      <td>3x(5x300m)</td>\n",
       "      <td>lap time   dist pace \\n 1     1 1:00   0.1...</td>\n",
       "    </tr>\n",
       "    <tr>\n",
       "      <th>ACYDBNi41iqyuYteIc14cOOgNxBY9AUkbWd2XtTK_eQI1VdOE7TLZiuJVPIUWDdhp_wfpR4</th>\n",
       "      <td>Ant</td>\n",
       "      <td>2024-08-27</td>\n",
       "      <td>None</td>\n",
       "      <td>3 sets of 300x5</td>\n",
       "    </tr>\n",
       "    <tr>\n",
       "      <th>ACYDBNiUZeJFg4EfC1C09d5FFqkgVh-bf41W0VeJNNUzSXZ8EA1YfdPI0AjafO2cta9x3HA</th>\n",
       "      <td>Sam Marshall</td>\n",
       "      <td>2024-08-24</td>\n",
       "      <td>parkrun</td>\n",
       "      <td>18:44</td>\n",
       "    </tr>\n",
       "  </tbody>\n",
       "</table>\n",
       "</div>"
      ]
     },
     "execution_count": 12,
     "metadata": {},
     "output_type": "execute_result"
    }
   ],
   "execution_count": 12
  },
  {
   "metadata": {
    "ExecuteTime": {
     "end_time": "2024-08-28T19:32:21.208034Z",
     "start_time": "2024-08-28T19:32:21.199244Z"
    }
   },
   "cell_type": "code",
   "source": [
    "access_data_path = \"access_tokens.tsv\"\n",
    "\n",
    "access_data = pd.read_csv(access_data_path, sep=\"\\t\")\n",
    "access_data.set_index(\"ID\", inplace=True)\n",
    "access_data.head(3)"
   ],
   "id": "ca029c825b70b4f8",
   "outputs": [
    {
     "data": {
      "text/plain": [
       "           First_name Last_name                              Access_token  \\\n",
       "ID                                                                          \n",
       "963223.0         Neil  Hoskings  69d8c42f38dcecbbfb3947f052d54c1ca049f0c8   \n",
       "98588012.0      Becky  Hoskings  6bd688ab1a58a50794aed5d5c7eee236cb0e0d43   \n",
       "38781770.0      Clark   Roberts  675f08a6a61efa4ec10e60a28677f3b560d74861   \n",
       "\n",
       "              Expires_at                             Refresh_token  \n",
       "ID                                                                  \n",
       "963223.0    1.724886e+09  0aa21162002e540df4dae47840ddc42f17745c75  \n",
       "98588012.0  1.724886e+09  23d2c1b7a49bc26cd22afb819b3a19d6db7ffcf3  \n",
       "38781770.0  1.724886e+09  ab54a8bd816db93297ef7cf7022ffa76e6efc36b  "
      ],
      "text/html": [
       "<div>\n",
       "<style scoped>\n",
       "    .dataframe tbody tr th:only-of-type {\n",
       "        vertical-align: middle;\n",
       "    }\n",
       "\n",
       "    .dataframe tbody tr th {\n",
       "        vertical-align: top;\n",
       "    }\n",
       "\n",
       "    .dataframe thead th {\n",
       "        text-align: right;\n",
       "    }\n",
       "</style>\n",
       "<table border=\"1\" class=\"dataframe\">\n",
       "  <thead>\n",
       "    <tr style=\"text-align: right;\">\n",
       "      <th></th>\n",
       "      <th>First_name</th>\n",
       "      <th>Last_name</th>\n",
       "      <th>Access_token</th>\n",
       "      <th>Expires_at</th>\n",
       "      <th>Refresh_token</th>\n",
       "    </tr>\n",
       "    <tr>\n",
       "      <th>ID</th>\n",
       "      <th></th>\n",
       "      <th></th>\n",
       "      <th></th>\n",
       "      <th></th>\n",
       "      <th></th>\n",
       "    </tr>\n",
       "  </thead>\n",
       "  <tbody>\n",
       "    <tr>\n",
       "      <th>963223.0</th>\n",
       "      <td>Neil</td>\n",
       "      <td>Hoskings</td>\n",
       "      <td>69d8c42f38dcecbbfb3947f052d54c1ca049f0c8</td>\n",
       "      <td>1.724886e+09</td>\n",
       "      <td>0aa21162002e540df4dae47840ddc42f17745c75</td>\n",
       "    </tr>\n",
       "    <tr>\n",
       "      <th>98588012.0</th>\n",
       "      <td>Becky</td>\n",
       "      <td>Hoskings</td>\n",
       "      <td>6bd688ab1a58a50794aed5d5c7eee236cb0e0d43</td>\n",
       "      <td>1.724886e+09</td>\n",
       "      <td>23d2c1b7a49bc26cd22afb819b3a19d6db7ffcf3</td>\n",
       "    </tr>\n",
       "    <tr>\n",
       "      <th>38781770.0</th>\n",
       "      <td>Clark</td>\n",
       "      <td>Roberts</td>\n",
       "      <td>675f08a6a61efa4ec10e60a28677f3b560d74861</td>\n",
       "      <td>1.724886e+09</td>\n",
       "      <td>ab54a8bd816db93297ef7cf7022ffa76e6efc36b</td>\n",
       "    </tr>\n",
       "  </tbody>\n",
       "</table>\n",
       "</div>"
      ]
     },
     "execution_count": 5,
     "metadata": {},
     "output_type": "execute_result"
    }
   ],
   "execution_count": 5
  },
  {
   "metadata": {
    "ExecuteTime": {
     "end_time": "2024-08-28T19:32:21.212187Z",
     "start_time": "2024-08-28T19:32:21.209098Z"
    }
   },
   "cell_type": "code",
   "source": [
    "def get_access_tokens(code):\n",
    "    response = requests.post(\n",
    "        url='https://www.strava.com/oauth/token',\n",
    "        data={\n",
    "            'client_id': 111130,\n",
    "            'client_secret': 'b7fca9288af24aaa2f86f1b82f70f2baa54daeb2',\n",
    "            'code': code,\n",
    "            'grant_type': 'authorization_code'\n",
    "        }\n",
    "    )\n",
    "\n",
    "    tokens = response.json()\n",
    "\n",
    "    try:\n",
    "        athlete_tokens = {\n",
    "            \"ID\": tokens[\"athlete\"][\"id\"],\n",
    "            \"Access_token\": tokens[\"access_token\"],\n",
    "            \"Refresh_token\": tokens[\"refresh_token\"]\n",
    "        }\n",
    "\n",
    "    except:\n",
    "        athlete_tokens = tokens\n",
    "\n",
    "    return athlete_tokens"
   ],
   "id": "349f20d73dbb83aa",
   "outputs": [],
   "execution_count": 6
  },
  {
   "metadata": {
    "ExecuteTime": {
     "end_time": "2024-08-28T19:32:21.217868Z",
     "start_time": "2024-08-28T19:32:21.213122Z"
    }
   },
   "cell_type": "code",
   "source": [
    "# tokens = {\"ID\": 38803221, \"Access_token\": 'cee165ac6b8f4c4db712e81accbfafeed0cc5f7a', \"Refresh_token\": '840befc02a4dca632ce7439fc082942c282f4e70'}\n",
    "\n",
    "for response_id in responses.index:\n",
    "    response = responses.loc[response_id]\n",
    "    # print(response.to_dict())\n",
    "    try:\n",
    "        parts = response[\"URL\"].split(\"&\")\n",
    "        code = parts[1][5:]\n",
    "        tokens = get_access_tokens(code)\n",
    "        if tokens:\n",
    "            if \"message\" in tokens.keys():\n",
    "                print(\"link extraction failed\")\n",
    "            else:\n",
    "                responses.loc[response_id, \"ID\"] = tokens[\"ID\"]\n",
    "                responses.loc[response_id, \"Refresh_token\"] = tokens[\"Refresh_token\"]\n",
    "                responses.loc[response_id, \"Access_token\"] = tokens[\"Access_token\"]\n",
    "                responses.loc[response_id, \"Access_token\"] = tokens[\"Access_token\"]\n",
    "                responses = responses.loc[:, ~responses.columns.str.contains('^Unnamed')]\n",
    "                \n",
    "    except Exception as e:\n",
    "        # raise e\n",
    "        print(\"link extraction failed\")\n",
    "        \n",
    "if (responses.columns.str.contains('ID')).any():\n",
    "    responses = responses.set_index(\"ID\")\n",
    "else:\n",
    "    responses = None\n",
    "\n",
    "if responses is not None:    \n",
    "    responses.head()"
   ],
   "id": "28941d1d64e7f846",
   "outputs": [
    {
     "name": "stdout",
     "output_type": "stream",
     "text": [
      "link extraction failed\n",
      "link extraction failed\n",
      "link extraction failed\n",
      "link extraction failed\n",
      "link extraction failed\n",
      "link extraction failed\n"
     ]
    }
   ],
   "execution_count": 7
  },
  {
   "metadata": {
    "ExecuteTime": {
     "end_time": "2024-08-28T19:32:21.224751Z",
     "start_time": "2024-08-28T19:32:21.218695Z"
    }
   },
   "cell_type": "code",
   "source": [
    "access_data = pd.concat([access_data, responses], join='inner')\n",
    "access_data = access_data.loc[access_data.index.dropna()]\n",
    "# access_data.join(responses, on=\"ID\", how=\"left\")\n",
    "access_data.head(10)"
   ],
   "id": "f867fb1e979c2805",
   "outputs": [
    {
     "data": {
      "text/plain": [
       "           First_name Last_name                              Access_token  \\\n",
       "ID                                                                          \n",
       "963223.0         Neil  Hoskings  69d8c42f38dcecbbfb3947f052d54c1ca049f0c8   \n",
       "98588012.0      Becky  Hoskings  6bd688ab1a58a50794aed5d5c7eee236cb0e0d43   \n",
       "38781770.0      Clark   Roberts  675f08a6a61efa4ec10e60a28677f3b560d74861   \n",
       "33370063.0        Tom   Beesley  548f50ee7b152d2ed5bd52e39dc89fd19182de6b   \n",
       "71665908.0     Sophie     Hurst  8764ffc2a9d446d8ea8c08d5bae82672bbcd94c2   \n",
       "14188705.0       Wais       Yip  a374fb131384cca69d3b1161a2898db3f1f2c192   \n",
       "38807221.0        Ben  Hoskings  1229671ff5af8b4490676071b794f384479df512   \n",
       "\n",
       "              Expires_at                             Refresh_token  \n",
       "ID                                                                  \n",
       "963223.0    1.724886e+09  0aa21162002e540df4dae47840ddc42f17745c75  \n",
       "98588012.0  1.724886e+09  23d2c1b7a49bc26cd22afb819b3a19d6db7ffcf3  \n",
       "38781770.0  1.724886e+09  ab54a8bd816db93297ef7cf7022ffa76e6efc36b  \n",
       "33370063.0  1.724886e+09  5a14aa37c6b245c36dccdb5b5c4467f1996d327c  \n",
       "71665908.0  1.724886e+09  bbe9aa060ed7423b16777886520dfc554bd6052e  \n",
       "14188705.0  1.724886e+09  995a9f58911040bf48924824e8e9bd8e843b5097  \n",
       "38807221.0  1.724886e+09  840befc02a4dca632ce7439fc082942c282f4e70  "
      ],
      "text/html": [
       "<div>\n",
       "<style scoped>\n",
       "    .dataframe tbody tr th:only-of-type {\n",
       "        vertical-align: middle;\n",
       "    }\n",
       "\n",
       "    .dataframe tbody tr th {\n",
       "        vertical-align: top;\n",
       "    }\n",
       "\n",
       "    .dataframe thead th {\n",
       "        text-align: right;\n",
       "    }\n",
       "</style>\n",
       "<table border=\"1\" class=\"dataframe\">\n",
       "  <thead>\n",
       "    <tr style=\"text-align: right;\">\n",
       "      <th></th>\n",
       "      <th>First_name</th>\n",
       "      <th>Last_name</th>\n",
       "      <th>Access_token</th>\n",
       "      <th>Expires_at</th>\n",
       "      <th>Refresh_token</th>\n",
       "    </tr>\n",
       "    <tr>\n",
       "      <th>ID</th>\n",
       "      <th></th>\n",
       "      <th></th>\n",
       "      <th></th>\n",
       "      <th></th>\n",
       "      <th></th>\n",
       "    </tr>\n",
       "  </thead>\n",
       "  <tbody>\n",
       "    <tr>\n",
       "      <th>963223.0</th>\n",
       "      <td>Neil</td>\n",
       "      <td>Hoskings</td>\n",
       "      <td>69d8c42f38dcecbbfb3947f052d54c1ca049f0c8</td>\n",
       "      <td>1.724886e+09</td>\n",
       "      <td>0aa21162002e540df4dae47840ddc42f17745c75</td>\n",
       "    </tr>\n",
       "    <tr>\n",
       "      <th>98588012.0</th>\n",
       "      <td>Becky</td>\n",
       "      <td>Hoskings</td>\n",
       "      <td>6bd688ab1a58a50794aed5d5c7eee236cb0e0d43</td>\n",
       "      <td>1.724886e+09</td>\n",
       "      <td>23d2c1b7a49bc26cd22afb819b3a19d6db7ffcf3</td>\n",
       "    </tr>\n",
       "    <tr>\n",
       "      <th>38781770.0</th>\n",
       "      <td>Clark</td>\n",
       "      <td>Roberts</td>\n",
       "      <td>675f08a6a61efa4ec10e60a28677f3b560d74861</td>\n",
       "      <td>1.724886e+09</td>\n",
       "      <td>ab54a8bd816db93297ef7cf7022ffa76e6efc36b</td>\n",
       "    </tr>\n",
       "    <tr>\n",
       "      <th>33370063.0</th>\n",
       "      <td>Tom</td>\n",
       "      <td>Beesley</td>\n",
       "      <td>548f50ee7b152d2ed5bd52e39dc89fd19182de6b</td>\n",
       "      <td>1.724886e+09</td>\n",
       "      <td>5a14aa37c6b245c36dccdb5b5c4467f1996d327c</td>\n",
       "    </tr>\n",
       "    <tr>\n",
       "      <th>71665908.0</th>\n",
       "      <td>Sophie</td>\n",
       "      <td>Hurst</td>\n",
       "      <td>8764ffc2a9d446d8ea8c08d5bae82672bbcd94c2</td>\n",
       "      <td>1.724886e+09</td>\n",
       "      <td>bbe9aa060ed7423b16777886520dfc554bd6052e</td>\n",
       "    </tr>\n",
       "    <tr>\n",
       "      <th>14188705.0</th>\n",
       "      <td>Wais</td>\n",
       "      <td>Yip</td>\n",
       "      <td>a374fb131384cca69d3b1161a2898db3f1f2c192</td>\n",
       "      <td>1.724886e+09</td>\n",
       "      <td>995a9f58911040bf48924824e8e9bd8e843b5097</td>\n",
       "    </tr>\n",
       "    <tr>\n",
       "      <th>38807221.0</th>\n",
       "      <td>Ben</td>\n",
       "      <td>Hoskings</td>\n",
       "      <td>1229671ff5af8b4490676071b794f384479df512</td>\n",
       "      <td>1.724886e+09</td>\n",
       "      <td>840befc02a4dca632ce7439fc082942c282f4e70</td>\n",
       "    </tr>\n",
       "  </tbody>\n",
       "</table>\n",
       "</div>"
      ]
     },
     "execution_count": 8,
     "metadata": {},
     "output_type": "execute_result"
    }
   ],
   "execution_count": 8
  },
  {
   "metadata": {
    "ExecuteTime": {
     "end_time": "2024-08-28T19:32:21.228365Z",
     "start_time": "2024-08-28T19:32:21.225382Z"
    }
   },
   "cell_type": "code",
   "source": [
    "\n",
    "access_data.to_csv(\"access_data_update.tsv\", sep=\"\\t\", index=True)"
   ],
   "id": "4c11efc731bdb092",
   "outputs": [],
   "execution_count": 9
  },
  {
   "metadata": {
    "ExecuteTime": {
     "end_time": "2024-08-28T19:32:22.211988Z",
     "start_time": "2024-08-28T19:32:21.229060Z"
    }
   },
   "cell_type": "code",
   "source": [
    "import requests\n",
    "import json\n",
    "url = \"https://eu-west-2.aws.data.mongodb-api.com/app/data-izribar/endpoint/data/v1/action/findOne\"\n",
    "\n",
    "payload = json.dumps({\n",
    "    \"collection\": \"athlete_data\",\n",
    "    \"database\": \"godiva_data\",\n",
    "    \"dataSource\": \"Cluster0\"\n",
    "})\n",
    "\n",
    "headers = {\n",
    "  'Content-Type': 'application/json',\n",
    "  'Access-Control-Request-Headers': '*',\n",
    "  'api-key': 'b8bRma7UNr1eGbaQjBb2aftslsjCe3SGltB4acl8o5jC0hrNstH2O1zmaV8QT8zx',\n",
    "}\n",
    "\n",
    "response = requests.request(\"POST\", url, headers=headers, data=payload)\n",
    "\n",
    "print(response.text)\n"
   ],
   "id": "777e0d6af73e7271",
   "outputs": [
    {
     "name": "stdout",
     "output_type": "stream",
     "text": [
      "{\"document\":{\"_id\":\"66585b3e1941040e53220a27\",\"first_name\":\"Ben\",\"last_name\":\"Hoskings\",\"dob\":\"27/07/2002\",\"strava_id\":38807221,\"group\":\"REPS\"}}\n"
     ]
    }
   ],
   "execution_count": 10
  },
  {
   "metadata": {
    "ExecuteTime": {
     "end_time": "2024-08-28T19:32:22.214305Z",
     "start_time": "2024-08-28T19:32:22.212864Z"
    }
   },
   "cell_type": "code",
   "source": "",
   "id": "19fd1e22e293dca8",
   "outputs": [],
   "execution_count": 10
  }
 ],
 "metadata": {
  "kernelspec": {
   "display_name": "Python 3",
   "language": "python",
   "name": "python3"
  },
  "language_info": {
   "codemirror_mode": {
    "name": "ipython",
    "version": 2
   },
   "file_extension": ".py",
   "mimetype": "text/x-python",
   "name": "python",
   "nbconvert_exporter": "python",
   "pygments_lexer": "ipython2",
   "version": "2.7.6"
  }
 },
 "nbformat": 4,
 "nbformat_minor": 5
}
